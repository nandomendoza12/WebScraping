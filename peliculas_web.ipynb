{
 "cells": [
  {
   "cell_type": "markdown",
   "id": "2e8c7d97",
   "metadata": {},
   "source": [
    "Analisis de peliculas"
   ]
  },
  {
   "cell_type": "code",
   "execution_count": 4,
   "id": "7d425dc0",
   "metadata": {},
   "outputs": [
    {
     "name": "stdout",
     "output_type": "stream",
     "text": [
      "Requirement already satisfied: pandas in c:\\users\\dell\\documents\\proyecto web scraping\\proyecto\\lib\\site-packages (2.3.2)\n",
      "Requirement already satisfied: numpy>=1.26.0 in c:\\users\\dell\\documents\\proyecto web scraping\\proyecto\\lib\\site-packages (from pandas) (2.3.3)\n",
      "Requirement already satisfied: python-dateutil>=2.8.2 in c:\\users\\dell\\documents\\proyecto web scraping\\proyecto\\lib\\site-packages (from pandas) (2.9.0.post0)\n",
      "Requirement already satisfied: pytz>=2020.1 in c:\\users\\dell\\documents\\proyecto web scraping\\proyecto\\lib\\site-packages (from pandas) (2025.2)\n",
      "Requirement already satisfied: tzdata>=2022.7 in c:\\users\\dell\\documents\\proyecto web scraping\\proyecto\\lib\\site-packages (from pandas) (2025.2)\n",
      "Requirement already satisfied: six>=1.5 in c:\\users\\dell\\documents\\proyecto web scraping\\proyecto\\lib\\site-packages (from python-dateutil>=2.8.2->pandas) (1.17.0)\n",
      "Note: you may need to restart the kernel to use updated packages.\n"
     ]
    },
    {
     "name": "stderr",
     "output_type": "stream",
     "text": [
      "\n",
      "[notice] A new release of pip is available: 25.1.1 -> 25.2\n",
      "[notice] To update, run: python.exe -m pip install --upgrade pip\n"
     ]
    }
   ],
   "source": [
    "# Importacion de librerias\n",
    "%pip install pandas\n",
    "import requests\n",
    "import pandas as pd\n",
    "from bs4 import BeautifulSoup\n"
   ]
  },
  {
   "cell_type": "code",
   "execution_count": 7,
   "id": "3d197882",
   "metadata": {},
   "outputs": [],
   "source": [
    "#Ponemos la url de la pagina web\n",
    "url = \"http://www.scrapethissite.com/pages/forms/\""
   ]
  },
  {
   "cell_type": "code",
   "execution_count": 8,
   "id": "4d54ff70",
   "metadata": {},
   "outputs": [
    {
     "name": "stdout",
     "output_type": "stream",
     "text": [
      "Conexión exitosa y análisis del HTML completado.\n"
     ]
    }
   ],
   "source": [
    "#Realizamos la peticion y obtenemos el contenido HTML\n",
    "try:\n",
    "    response = requests.get(url)\n",
    "    response.raise_for_status()  # Verifica que la solicitud fue exitosa\n",
    "\n",
    "    #Creamos un objeto BeautifulSoup para analizar el HTML\n",
    "    soup = BeautifulSoup(response.text, 'html.parser')\n",
    "    print(\"Conexión exitosa y análisis del HTML completado.\")\n",
    "except requests.exceptions.RequestException as e:\n",
    "    print(f\"Error al realizar la solicitud: {e}\")\n",
    "    "
   ]
  },
  {
   "cell_type": "code",
   "execution_count": 19,
   "id": "6a2dbfe1",
   "metadata": {},
   "outputs": [
    {
     "name": "stdout",
     "output_type": "stream",
     "text": [
      "Tabla encontrada.\n",
      "Se extrajeron 25 películas.\n"
     ]
    }
   ],
   "source": [
    "#Encontramos la tabla que contiene los datos de las peliculas\n",
    "table = soup.find('table', class_='table')\n",
    "#Verificamos si la tabla fue encontrada\n",
    "if table:\n",
    "    print(\"Tabla encontrada.\")\n",
    "else:\n",
    "    print(\"No se encontró la tabla.\")\n",
    "\n",
    "# Creamos listas vacias para almacenar los datos\n",
    "peliculas = []\n",
    "\n",
    "# Iteramos sobre las filas de la tabla (excepto el encabezado)\n",
    "for row in table.find_all('tr', class_='team'):\n",
    "    try:\n",
    "        # Extraemos el titulo, año y rating de cada pelicula\n",
    "        titulo = row.find('td', class_='name').text.strip()\n",
    "        ano = row.find('td', class_='year').text.strip()\n",
    "        rating = row.find('td', class_='wins').text.strip()\n",
    "\n",
    "        # Convertimos el año y rating a tipo numérico\n",
    "        ano = int(ano)\n",
    "        rating = float(rating)\n",
    "\n",
    "        # Agregamos los datos a la lista de peliculas\n",
    "        peliculas.append({\n",
    "            'Titulo': titulo,\n",
    "            'Año': ano,\n",
    "            'Rating': rating\n",
    "        })\n",
    "    except (AttributeError, ValueError) as e:\n",
    "        # Captura errores si no se encuentran las clases o si la conversión falla\n",
    "        print(f\"Error procesando la fila. Detalle: {e}\")\n",
    "\n",
    "print(f\"Se extrajeron {len(peliculas)} películas.\")"
   ]
  },
  {
   "cell_type": "code",
   "execution_count": 21,
   "id": "34375277",
   "metadata": {},
   "outputs": [
    {
     "name": "stdout",
     "output_type": "stream",
     "text": [
      "               Titulo   Año  Rating\n",
      "0       Boston Bruins  1990    44.0\n",
      "1      Buffalo Sabres  1990    31.0\n",
      "2      Calgary Flames  1990    46.0\n",
      "3  Chicago Blackhawks  1990    49.0\n",
      "4   Detroit Red Wings  1990    34.0\n",
      "No se pudo guardar en 'peliculas.csv'. Guardado como 'peliculas_guardado.csv' en su lugar.\n"
     ]
    }
   ],
   "source": [
    "#Vamos almacenar los datos en un DataFrame de pandas y CSV\n",
    "df = pd.DataFrame(peliculas)\n",
    "print(df.head())\n",
    "try:\n",
    "\tdf.to_csv('peliculas.csv', index=False, encoding='utf-8')\n",
    "\tprint(\"Datos guardados en peliculas.csv\")\n",
    "except PermissionError:\n",
    "\talt_filename = 'peliculas_guardado.csv'\n",
    "\tdf.to_csv(alt_filename, index=False, encoding='utf-8')\n",
    "\tprint(f\"No se pudo guardar en 'peliculas.csv'. Guardado como '{alt_filename}' en su lugar.\")"
   ]
  },
  {
   "cell_type": "code",
   "execution_count": 22,
   "id": "62061f71",
   "metadata": {},
   "outputs": [
    {
     "name": "stdout",
     "output_type": "stream",
     "text": [
      "Estadisticas descriptivas:\n",
      "               Año     Rating\n",
      "count    25.000000  25.000000\n",
      "mean   1990.160000  34.480000\n",
      "std       0.374166   8.155366\n",
      "min    1990.000000  16.000000\n",
      "25%    1990.000000  31.000000\n",
      "50%    1990.000000  34.000000\n",
      "75%    1990.000000  39.000000\n",
      "max    1991.000000  49.000000\n"
     ]
    }
   ],
   "source": [
    "#Analisis basico de los datos\n",
    "#Estadisticas descriptivas basicas\n",
    "print(\"Estadisticas descriptivas:\")\n",
    "print(df.describe())"
   ]
  },
  {
   "cell_type": "code",
   "execution_count": 23,
   "id": "50de3412",
   "metadata": {},
   "outputs": [
    {
     "name": "stdout",
     "output_type": "stream",
     "text": [
      "La mejor película es:\n",
      "Titulo    Chicago Blackhawks\n",
      "Año                     1990\n",
      "Rating                  49.0\n",
      "Name: 3, dtype: object\n"
     ]
    }
   ],
   "source": [
    "#Encontramos la pelicula con el rating mas alto\n",
    "mejor_pelicula = df.loc[df['Rating'].idxmax()]\n",
    "print(\"La mejor película es:\")\n",
    "print(mejor_pelicula)"
   ]
  },
  {
   "cell_type": "code",
   "execution_count": 24,
   "id": "48a0e89f",
   "metadata": {},
   "outputs": [
    {
     "name": "stdout",
     "output_type": "stream",
     "text": [
      "Películas lanzadas después del año 2000 :\n",
      "Empty DataFrame\n",
      "Columns: [Titulo, Año]\n",
      "Index: []\n"
     ]
    }
   ],
   "source": [
    "#Filtraremos las peliculas lanzadas despues de año 2000\n",
    "peliculas_recientes = df[df['Año'] > 2000]\n",
    "print(f\"Películas lanzadas después del año 2000 :\")\n",
    "print(peliculas_recientes[['Titulo', 'Año']].head())"
   ]
  }
 ],
 "metadata": {
  "kernelspec": {
   "display_name": "proyecto",
   "language": "python",
   "name": "python3"
  },
  "language_info": {
   "codemirror_mode": {
    "name": "ipython",
    "version": 3
   },
   "file_extension": ".py",
   "mimetype": "text/x-python",
   "name": "python",
   "nbconvert_exporter": "python",
   "pygments_lexer": "ipython3",
   "version": "3.13.5"
  }
 },
 "nbformat": 4,
 "nbformat_minor": 5
}
